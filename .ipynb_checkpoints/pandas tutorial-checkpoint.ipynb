{
 "cells": [
  {
   "cell_type": "code",
   "execution_count": 1,
   "id": "b0158a22",
   "metadata": {},
   "outputs": [],
   "source": [
    "import numpy as np\n",
    "import pandas as pd"
   ]
  },
  {
   "cell_type": "code",
   "execution_count": 2,
   "id": "08301759",
   "metadata": {},
   "outputs": [
    {
     "name": "stdout",
     "output_type": "stream",
     "text": [
      "Empty DataFrame\n",
      "Columns: []\n",
      "Index: []\n"
     ]
    }
   ],
   "source": [
    "text=pd.DataFrame()\n",
    "print(text)"
   ]
  },
  {
   "cell_type": "code",
   "execution_count": 4,
   "id": "6ab4b431",
   "metadata": {},
   "outputs": [
    {
     "name": "stdout",
     "output_type": "stream",
     "text": [
      "Series([], dtype: object)\n"
     ]
    }
   ],
   "source": [
    "t=pd.Series()\n",
    "print(t)"
   ]
  },
  {
   "cell_type": "code",
   "execution_count": 16,
   "id": "0426fca8",
   "metadata": {},
   "outputs": [
    {
     "data": {
      "text/plain": [
       "3    d\n",
       "4    a\n",
       "5    s\n",
       "dtype: object"
      ]
     },
     "execution_count": 16,
     "metadata": {},
     "output_type": "execute_result"
    }
   ],
   "source": [
    "info=np.array(['p','a','n','d','a','s'])\n",
    "t=pd.Series(info)\n",
    "t.head(2)\n",
    "t.tail(3)"
   ]
  },
  {
   "cell_type": "code",
   "execution_count": 22,
   "id": "c86ea24d",
   "metadata": {},
   "outputs": [
    {
     "data": {
      "text/html": [
       "<div>\n",
       "<style scoped>\n",
       "    .dataframe tbody tr th:only-of-type {\n",
       "        vertical-align: middle;\n",
       "    }\n",
       "\n",
       "    .dataframe tbody tr th {\n",
       "        vertical-align: top;\n",
       "    }\n",
       "\n",
       "    .dataframe thead th {\n",
       "        text-align: right;\n",
       "    }\n",
       "</style>\n",
       "<table border=\"1\" class=\"dataframe\">\n",
       "  <thead>\n",
       "    <tr style=\"text-align: right;\">\n",
       "      <th></th>\n",
       "      <th>0</th>\n",
       "      <th>1</th>\n",
       "      <th>2</th>\n",
       "      <th>3</th>\n",
       "      <th>4</th>\n",
       "    </tr>\n",
       "  </thead>\n",
       "  <tbody>\n",
       "    <tr>\n",
       "      <th>2</th>\n",
       "      <td>9</td>\n",
       "      <td>10</td>\n",
       "      <td>11</td>\n",
       "      <td>12</td>\n",
       "      <td>NaN</td>\n",
       "    </tr>\n",
       "    <tr>\n",
       "      <th>3</th>\n",
       "      <td>13</td>\n",
       "      <td>14</td>\n",
       "      <td>15</td>\n",
       "      <td>16</td>\n",
       "      <td>17.0</td>\n",
       "    </tr>\n",
       "  </tbody>\n",
       "</table>\n",
       "</div>"
      ],
      "text/plain": [
       "    0   1   2   3     4\n",
       "2   9  10  11  12   NaN\n",
       "3  13  14  15  16  17.0"
      ]
     },
     "execution_count": 22,
     "metadata": {},
     "output_type": "execute_result"
    }
   ],
   "source": [
    "data=[[1,2,3,4],[5,6,7,8],[9,10,11,12],[13,14,15,16,17]]\n",
    "info=pd.DataFrame(data)\n",
    "info.head(2)\n",
    "info.tail(2)"
   ]
  },
  {
   "cell_type": "markdown",
   "id": "fb2d0cdf",
   "metadata": {},
   "source": [
    "## series\n"
   ]
  },
  {
   "cell_type": "code",
   "execution_count": 23,
   "id": "e0b76110",
   "metadata": {},
   "outputs": [
    {
     "name": "stdout",
     "output_type": "stream",
     "text": [
      "x    0.0\n",
      "y    1.0\n",
      "z    2.0\n",
      "dtype: float64\n"
     ]
    }
   ],
   "source": [
    "import pandas as pd  \n",
    "import numpy as np  \n",
    "info = {'x' : 0., 'y' : 1., 'z' : 2.}  \n",
    "a = pd.Series(info)  \n",
    "print (a)  "
   ]
  },
  {
   "cell_type": "code",
   "execution_count": 25,
   "id": "8bc3733c",
   "metadata": {},
   "outputs": [
    {
     "name": "stdout",
     "output_type": "stream",
     "text": [
      "3\n"
     ]
    }
   ],
   "source": [
    "x = pd.Series([1,2,3],index = ['a','b','c'])  \n",
    "#retrieve the first element  \n",
    "print (x[2])  "
   ]
  },
  {
   "cell_type": "code",
   "execution_count": 35,
   "id": "9cd7f67c",
   "metadata": {},
   "outputs": [
    {
     "name": "stdout",
     "output_type": "stream",
     "text": [
      "RangeIndex(start=0, stop=4, step=1)\n",
      "[2 4 6 8]\n",
      "Index(['a', 'b', 'c'], dtype='object')\n",
      "[11.2 18.6 22.5]\n",
      "int64\n",
      "float64\n",
      "(4,) (3,)\n",
      "4 3\n",
      "1 1\n",
      "32 24\n"
     ]
    }
   ],
   "source": [
    "x=pd.Series(data=[2,4,6,8])   \n",
    "y=pd.Series(data=[11.2,18.6,22.5], index=['a','b','c'])   \n",
    "print(x.index)   \n",
    "print(x.values)   \n",
    "print(y.index)   \n",
    "print(y.values)\n",
    "print(x.dtype)\n",
    "# print(x.itemsize)\n",
    "print(y.dtype)\n",
    "# print(y.itemsize)\n",
    "print(x.shape,y.shape)\n",
    "print(x.size,y.size)\n",
    "print(x.ndim,y.ndim)\n",
    "print(x.nbytes,y.nbytes)\n"
   ]
  },
  {
   "cell_type": "code",
   "execution_count": 36,
   "id": "dc534986",
   "metadata": {},
   "outputs": [
    {
     "name": "stdout",
     "output_type": "stream",
     "text": [
      "False False True\n",
      "True False False\n",
      "4 3\n",
      "3 3\n"
     ]
    }
   ],
   "source": [
    "a=pd.Series(data=[1,2,3,np.NaN])   \n",
    "b=pd.Series(data=[4.9,8.2,5.6],index=['x','y','z'])   \n",
    "c=pd.Series()   \n",
    "print(a.empty,b.empty,c.empty)   \n",
    "print(a.hasnans,b.hasnans,c.hasnans)   \n",
    "print(len(a),len(b))   \n",
    "print(a.count( ),b.count( ))  "
   ]
  },
  {
   "cell_type": "code",
   "execution_count": null,
   "id": "427d457f",
   "metadata": {},
   "outputs": [],
   "source": []
  }
 ],
 "metadata": {
  "kernelspec": {
   "display_name": "Python 3 (ipykernel)",
   "language": "python",
   "name": "python3"
  },
  "language_info": {
   "codemirror_mode": {
    "name": "ipython",
    "version": 3
   },
   "file_extension": ".py",
   "mimetype": "text/x-python",
   "name": "python",
   "nbconvert_exporter": "python",
   "pygments_lexer": "ipython3",
   "version": "3.10.5"
  }
 },
 "nbformat": 4,
 "nbformat_minor": 5
}
