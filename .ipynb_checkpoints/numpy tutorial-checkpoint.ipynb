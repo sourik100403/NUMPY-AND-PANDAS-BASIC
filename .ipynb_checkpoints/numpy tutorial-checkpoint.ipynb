{
 "cells": [
  {
   "cell_type": "code",
   "execution_count": 1,
   "id": "59f67961",
   "metadata": {},
   "outputs": [],
   "source": [
    "import numpy as np"
   ]
  },
  {
   "cell_type": "code",
   "execution_count": 2,
   "id": "d724b038",
   "metadata": {},
   "outputs": [
    {
     "name": "stdout",
     "output_type": "stream",
     "text": [
      "14\n",
      "int32\n",
      "[[ 1  2  3  9  5  6  7]\n",
      " [ 6 54  4  3  4  3  4]]\n",
      "4\n",
      "(2, 7)\n"
     ]
    },
    {
     "data": {
      "text/plain": [
       "array([1., 1.])"
      ]
     },
     "execution_count": 2,
     "metadata": {},
     "output_type": "execute_result"
    }
   ],
   "source": [
    "a=np.array([[1,2,3,9,5,6,7],[6,54,4,3,4,3,4]])\n",
    "print(a.size)\n",
    "print(a.dtype)\n",
    "print(a)\n",
    "print(a.itemsize)\n",
    "print(a.shape)\n",
    "#print(a.reshape(7,2))\n",
    "np.zeros(2)\n",
    "np.ones(2)\n",
    "np.empty(2)"
   ]
  },
  {
   "cell_type": "code",
   "execution_count": 3,
   "id": "395f9bde",
   "metadata": {},
   "outputs": [
    {
     "data": {
      "text/plain": [
       "array([[ 1,  2,  3,  9,  5,  6,  7],\n",
       "       [ 6, 54,  4,  3,  4,  3,  4]])"
      ]
     },
     "execution_count": 3,
     "metadata": {},
     "output_type": "execute_result"
    }
   ],
   "source": [
    "a"
   ]
  },
  {
   "cell_type": "code",
   "execution_count": 4,
   "id": "f8e95939",
   "metadata": {},
   "outputs": [
    {
     "data": {
      "text/plain": [
       "array([[   1,    4,    9,   81,   25,   36,   49],\n",
       "       [  36, 2916,   16,    9,   16,    9,   16]])"
      ]
     },
     "execution_count": 4,
     "metadata": {},
     "output_type": "execute_result"
    }
   ],
   "source": [
    "a*a"
   ]
  },
  {
   "cell_type": "code",
   "execution_count": 5,
   "id": "1f68fb69",
   "metadata": {},
   "outputs": [
    {
     "data": {
      "text/plain": [
       "array([[        1,         4,        27, 387420489,      3125,     46656,\n",
       "           823543],\n",
       "       [    46656,         0,       256,        27,       256,        27,\n",
       "              256]])"
      ]
     },
     "execution_count": 5,
     "metadata": {},
     "output_type": "execute_result"
    }
   ],
   "source": [
    "a**a"
   ]
  },
  {
   "cell_type": "code",
   "execution_count": 6,
   "id": "d7eef3db",
   "metadata": {},
   "outputs": [
    {
     "data": {
      "text/plain": [
       "array([[1.        , 0.5       , 0.33333333, 0.11111111, 0.2       ,\n",
       "        0.16666667, 0.14285714],\n",
       "       [0.16666667, 0.01851852, 0.25      , 0.33333333, 0.25      ,\n",
       "        0.33333333, 0.25      ]])"
      ]
     },
     "execution_count": 6,
     "metadata": {},
     "output_type": "execute_result"
    }
   ],
   "source": [
    "1/a"
   ]
  },
  {
   "cell_type": "code",
   "execution_count": 7,
   "id": "05821108",
   "metadata": {},
   "outputs": [
    {
     "data": {
      "text/plain": [
       "array([[  2,   4,   6,  18,  10,  12,  14],\n",
       "       [ 12, 108,   8,   6,   8,   6,   8]])"
      ]
     },
     "execution_count": 7,
     "metadata": {},
     "output_type": "execute_result"
    }
   ],
   "source": [
    "a+a"
   ]
  },
  {
   "cell_type": "code",
   "execution_count": 8,
   "id": "c99bd5df",
   "metadata": {},
   "outputs": [
    {
     "data": {
      "text/plain": [
       "array([[  2,   4,   6,  18,  10,  12,  14],\n",
       "       [ 12, 108,   8,   6,   8,   6,   8]])"
      ]
     },
     "execution_count": 8,
     "metadata": {},
     "output_type": "execute_result"
    }
   ],
   "source": [
    "a*2"
   ]
  },
  {
   "cell_type": "markdown",
   "id": "9e794e83",
   "metadata": {},
   "source": [
    "## slicing"
   ]
  },
  {
   "cell_type": "code",
   "execution_count": 9,
   "id": "7b8db923",
   "metadata": {},
   "outputs": [],
   "source": [
    "arr=np.array([1,2,3,4,5,6,7])\n"
   ]
  },
  {
   "cell_type": "code",
   "execution_count": 10,
   "id": "4116b3ac",
   "metadata": {},
   "outputs": [
    {
     "data": {
      "text/plain": [
       "array([3, 4, 5])"
      ]
     },
     "execution_count": 10,
     "metadata": {},
     "output_type": "execute_result"
    }
   ],
   "source": [
    "arr1=arr[2:5]\n",
    "arr1"
   ]
  },
  {
   "cell_type": "code",
   "execution_count": 11,
   "id": "6225d279",
   "metadata": {},
   "outputs": [
    {
     "data": {
      "text/plain": [
       "array([  1,   2,   3,   4, 100,   6,   7])"
      ]
     },
     "execution_count": 11,
     "metadata": {},
     "output_type": "execute_result"
    }
   ],
   "source": [
    "arr1[2]=100\n",
    "arr\n"
   ]
  },
  {
   "cell_type": "code",
   "execution_count": 12,
   "id": "b1c5e6eb",
   "metadata": {},
   "outputs": [
    {
     "data": {
      "text/plain": [
       "array([[ 1,  2,  3,  9,  5,  6,  7],\n",
       "       [ 6, 54,  4,  3,  4,  3,  4]])"
      ]
     },
     "execution_count": 12,
     "metadata": {},
     "output_type": "execute_result"
    }
   ],
   "source": [
    "a"
   ]
  },
  {
   "cell_type": "code",
   "execution_count": 13,
   "id": "5a9222d3",
   "metadata": {},
   "outputs": [],
   "source": [
    "a[0]\n",
    "a[0,3]=10000"
   ]
  },
  {
   "cell_type": "code",
   "execution_count": 14,
   "id": "ca37d948",
   "metadata": {},
   "outputs": [
    {
     "data": {
      "text/plain": [
       "array([[    1,     2,     3, 10000,     5,     6,     7],\n",
       "       [    6,    54,     4,     3,     4,     3,     4]])"
      ]
     },
     "execution_count": 14,
     "metadata": {},
     "output_type": "execute_result"
    }
   ],
   "source": [
    "a"
   ]
  },
  {
   "cell_type": "code",
   "execution_count": 15,
   "id": "59c81085",
   "metadata": {},
   "outputs": [
    {
     "name": "stdout",
     "output_type": "stream",
     "text": [
      "2\n",
      "3\n",
      "6\n"
     ]
    }
   ],
   "source": [
    "a1 = np.array([[1,2],[3,4],[5,6]])  \n",
    "print(a1[0,1])  \n",
    "print(a1[1,0])  \n",
    "print(a1[2,1])  "
   ]
  },
  {
   "cell_type": "code",
   "execution_count": 16,
   "id": "78c9854b",
   "metadata": {},
   "outputs": [
    {
     "data": {
      "text/plain": [
       "array([  1,   2,   3,   4, 100,   6,   7])"
      ]
     },
     "execution_count": 16,
     "metadata": {},
     "output_type": "execute_result"
    }
   ],
   "source": [
    "arr"
   ]
  },
  {
   "cell_type": "code",
   "execution_count": 17,
   "id": "36b4841e",
   "metadata": {},
   "outputs": [
    {
     "data": {
      "text/plain": [
       "100"
      ]
     },
     "execution_count": 17,
     "metadata": {},
     "output_type": "execute_result"
    }
   ],
   "source": [
    "arr.max()"
   ]
  },
  {
   "cell_type": "code",
   "execution_count": 18,
   "id": "00c32775",
   "metadata": {},
   "outputs": [
    {
     "data": {
      "text/plain": [
       "1"
      ]
     },
     "execution_count": 18,
     "metadata": {},
     "output_type": "execute_result"
    }
   ],
   "source": [
    "arr.min()"
   ]
  },
  {
   "cell_type": "code",
   "execution_count": 19,
   "id": "01bffda4",
   "metadata": {},
   "outputs": [
    {
     "data": {
      "text/plain": [
       "123"
      ]
     },
     "execution_count": 19,
     "metadata": {},
     "output_type": "execute_result"
    }
   ],
   "source": [
    "arr.sum()"
   ]
  },
  {
   "cell_type": "code",
   "execution_count": 20,
   "id": "1504606b",
   "metadata": {},
   "outputs": [
    {
     "data": {
      "text/plain": [
       "array([[    1,     2,     3, 10000,     5,     6,     7],\n",
       "       [    6,    54,     4,     3,     4,     3,     4]])"
      ]
     },
     "execution_count": 20,
     "metadata": {},
     "output_type": "execute_result"
    }
   ],
   "source": [
    "a"
   ]
  },
  {
   "cell_type": "code",
   "execution_count": 21,
   "id": "634e68fd",
   "metadata": {},
   "outputs": [
    {
     "data": {
      "text/plain": [
       "array([    6,    54,     4, 10000,     5,     6,     7])"
      ]
     },
     "execution_count": 21,
     "metadata": {},
     "output_type": "execute_result"
    }
   ],
   "source": [
    "a.max(axis=0)"
   ]
  },
  {
   "cell_type": "code",
   "execution_count": 22,
   "id": "e7f64a91",
   "metadata": {},
   "outputs": [
    {
     "data": {
      "text/plain": [
       "array([1, 3])"
      ]
     },
     "execution_count": 22,
     "metadata": {},
     "output_type": "execute_result"
    }
   ],
   "source": [
    "a.min(axis=1)"
   ]
  },
  {
   "cell_type": "code",
   "execution_count": 23,
   "id": "eba71f14",
   "metadata": {},
   "outputs": [
    {
     "data": {
      "text/plain": [
       "array([    7,    56,     7, 10003,     9,     9,    11])"
      ]
     },
     "execution_count": 23,
     "metadata": {},
     "output_type": "execute_result"
    }
   ],
   "source": [
    "a.sum(axis=0)"
   ]
  },
  {
   "cell_type": "code",
   "execution_count": 24,
   "id": "cb5c8af5",
   "metadata": {},
   "outputs": [
    {
     "data": {
      "text/plain": [
       "array([10024,    78])"
      ]
     },
     "execution_count": 24,
     "metadata": {},
     "output_type": "execute_result"
    }
   ],
   "source": [
    "a.sum(axis=1)"
   ]
  },
  {
   "cell_type": "code",
   "execution_count": 25,
   "id": "54035b16",
   "metadata": {},
   "outputs": [
    {
     "ename": "AttributeError",
     "evalue": "'numpy.ndarray' object has no attribute 'sqrt'",
     "output_type": "error",
     "traceback": [
      "\u001b[1;31m---------------------------------------------------------------------------\u001b[0m",
      "\u001b[1;31mAttributeError\u001b[0m                            Traceback (most recent call last)",
      "Cell \u001b[1;32mIn[25], line 1\u001b[0m\n\u001b[1;32m----> 1\u001b[0m \u001b[43ma\u001b[49m\u001b[38;5;241;43m.\u001b[39;49m\u001b[43msqrt\u001b[49m()\n",
      "\u001b[1;31mAttributeError\u001b[0m: 'numpy.ndarray' object has no attribute 'sqrt'"
     ]
    }
   ],
   "source": [
    "a.sqrt()"
   ]
  },
  {
   "cell_type": "code",
   "execution_count": null,
   "id": "ef969e30",
   "metadata": {},
   "outputs": [],
   "source": [
    "np.sqrt(a)"
   ]
  },
  {
   "cell_type": "code",
   "execution_count": null,
   "id": "03eddc99",
   "metadata": {},
   "outputs": [],
   "source": [
    "np.std(a)"
   ]
  },
  {
   "cell_type": "code",
   "execution_count": null,
   "id": "aedc144b",
   "metadata": {},
   "outputs": [],
   "source": [
    "c=np.array([[1,2,3],[4,5,6]])\n",
    "d=np.array([[1,2,3],[4,5,6]])\n",
    "print(c+d)\n",
    "print(c-d)\n",
    "print(c*d)\n",
    "print(c/d)\n"
   ]
  },
  {
   "cell_type": "code",
   "execution_count": null,
   "id": "5dcc34d8",
   "metadata": {},
   "outputs": [],
   "source": [
    "c1=np.array([[1,2,3],[4,5,6]])\n",
    "d1=np.array([[100,200,300],[4000,5000,6000]])\n",
    "print(np.vstack((c1,d1)))\n",
    "print(np.hstack((c1,d1)))"
   ]
  },
  {
   "cell_type": "markdown",
   "id": "623a5faf",
   "metadata": {},
   "source": [
    "## arithmetic\n"
   ]
  },
  {
   "cell_type": "code",
   "execution_count": 27,
   "id": "49ab7965",
   "metadata": {},
   "outputs": [],
   "source": [
    "import numpy as np\n",
    "arr9=np.empty((3,2),dtype=\"int32\")"
   ]
  },
  {
   "cell_type": "code",
   "execution_count": 28,
   "id": "9cde815b",
   "metadata": {},
   "outputs": [
    {
     "data": {
      "text/plain": [
       "array([[-217452416,        521],\n",
       "       [         0,          0],\n",
       "       [    131074, 1701667186]])"
      ]
     },
     "execution_count": 28,
     "metadata": {},
     "output_type": "execute_result"
    }
   ],
   "source": [
    "arr9"
   ]
  },
  {
   "cell_type": "code",
   "execution_count": 31,
   "id": "f0465a2a",
   "metadata": {},
   "outputs": [
    {
     "data": {
      "text/plain": [
       "array([[0., 0.],\n",
       "       [0., 0.],\n",
       "       [0., 0.]])"
      ]
     },
     "execution_count": 31,
     "metadata": {},
     "output_type": "execute_result"
    }
   ],
   "source": [
    "np.zeros((3,2),dtype=\"float64\")"
   ]
  },
  {
   "cell_type": "code",
   "execution_count": 32,
   "id": "67f7ef8c",
   "metadata": {},
   "outputs": [
    {
     "data": {
      "text/plain": [
       "array([[ True,  True],\n",
       "       [ True,  True]])"
      ]
     },
     "execution_count": 32,
     "metadata": {},
     "output_type": "execute_result"
    }
   ],
   "source": [
    "np.ones((2,2),dtype=\"bool_\")"
   ]
  },
  {
   "cell_type": "markdown",
   "id": "88ddd3b5",
   "metadata": {},
   "source": [
    "## ASARRAY"
   ]
  },
  {
   "cell_type": "code",
   "execution_count": null,
   "id": "33ee3314",
   "metadata": {},
   "outputs": [],
   "source": [
    "l=[1,2,3,4,5,6,7]  \n",
    "print(type(l))\n",
    "a = np.asarray(l);  \n",
    "print(type(a))  \n",
    "print(a) "
   ]
  },
  {
   "cell_type": "code",
   "execution_count": 34,
   "id": "02476696",
   "metadata": {},
   "outputs": [
    {
     "name": "stdout",
     "output_type": "stream",
     "text": [
      "<class 'list'>\n",
      "<class 'numpy.ndarray'>\n",
      "[[ 1  2  3  4  5  6  7]\n",
      " [ 8  9 10 11 12 13 14]]\n"
     ]
    }
   ],
   "source": [
    "l1=[[1,2,3,4,5,6,7],[8,9,10,11,12,13,14]]  \n",
    "print(type(l1))\n",
    "a = np.asarray(l1);  \n",
    "print(type(a))  \n",
    "print(a) "
   ]
  },
  {
   "cell_type": "markdown",
   "id": "e404bd22",
   "metadata": {},
   "source": [
    "## FROMBUFFER"
   ]
  },
  {
   "cell_type": "code",
   "execution_count": 37,
   "id": "d1337867",
   "metadata": {},
   "outputs": [
    {
     "name": "stdout",
     "output_type": "stream",
     "text": [
      "<class 'bytes'>\n",
      "[b'h' b'e' b'l' b'l' b'o' b' ' b'w' b'o' b'r' b'l' b'd']\n",
      "<class 'numpy.ndarray'>\n"
     ]
    }
   ],
   "source": [
    "import numpy as np  \n",
    "l3 = b'hello world'  \n",
    "print(type(l3))  \n",
    "a = np.frombuffer(l3, dtype = \"S1\")  \n",
    "print(a)  \n",
    "print(type(a))  "
   ]
  },
  {
   "cell_type": "markdown",
   "id": "df801940",
   "metadata": {},
   "source": [
    "## ARRANAGE"
   ]
  },
  {
   "cell_type": "code",
   "execution_count": 43,
   "id": "0b16f2e4",
   "metadata": {},
   "outputs": [],
   "source": [
    "num=np.arange(0,100,10,int)"
   ]
  },
  {
   "cell_type": "code",
   "execution_count": 44,
   "id": "c49bf3a1",
   "metadata": {},
   "outputs": [
    {
     "name": "stdout",
     "output_type": "stream",
     "text": [
      "[ 0 10 20 30 40 50 60 70 80 90]\n"
     ]
    }
   ],
   "source": [
    "print(num)"
   ]
  },
  {
   "cell_type": "markdown",
   "id": "729f417f",
   "metadata": {},
   "source": [
    "## LINSPACE\n"
   ]
  },
  {
   "cell_type": "code",
   "execution_count": 59,
   "id": "9deec0e8",
   "metadata": {},
   "outputs": [
    {
     "name": "stdout",
     "output_type": "stream",
     "text": [
      "The array over the given range is  [10]\n"
     ]
    }
   ],
   "source": [
    "lin1 = np.linspace(10, 20,1,endpoint=True,dtype=\"int\")  \n",
    "print(\"The array over the given range is \",lin1)  "
   ]
  },
  {
   "cell_type": "code",
   "execution_count": 46,
   "id": "9a91ad4e",
   "metadata": {},
   "outputs": [
    {
     "name": "stdout",
     "output_type": "stream",
     "text": [
      "The array over the given range is  [10.         11.11111111 12.22222222 13.33333333 14.44444444 15.55555556\n",
      " 16.66666667 17.77777778 18.88888889 20.        ]\n"
     ]
    }
   ],
   "source": [
    "lin1 = np.linspace(10, 20, 10)  \n",
    "print(\"The array over the given range is \",lin1) "
   ]
  },
  {
   "cell_type": "code",
   "execution_count": 47,
   "id": "815e4ce9",
   "metadata": {},
   "outputs": [
    {
     "name": "stdout",
     "output_type": "stream",
     "text": [
      "The array over the given range is  [10. 15. 20.]\n"
     ]
    }
   ],
   "source": [
    "lin1 = np.linspace(10, 20, 3)  \n",
    "print(\"The array over the given range is \",lin1) "
   ]
  },
  {
   "cell_type": "code",
   "execution_count": 62,
   "id": "813a7fc1",
   "metadata": {},
   "outputs": [
    {
     "name": "stdout",
     "output_type": "stream",
     "text": [
      "The array over the given range is  [10.    9.94  9.88  9.82  9.76  9.7   9.64  9.58  9.52  9.46  9.4   9.34\n",
      "  9.28  9.22  9.16  9.1   9.04  8.98  8.92  8.86  8.8   8.74  8.68  8.62\n",
      "  8.56  8.5   8.44  8.38  8.32  8.26  8.2   8.14  8.08  8.02  7.96  7.9\n",
      "  7.84  7.78  7.72  7.66  7.6   7.54  7.48  7.42  7.36  7.3   7.24  7.18\n",
      "  7.12  7.06]\n"
     ]
    }
   ],
   "source": [
    "lin1 = np.linspace(10,7,endpoint=False)  \n",
    "print(\"The array over the given range is \",lin1) "
   ]
  },
  {
   "cell_type": "markdown",
   "id": "484f011b",
   "metadata": {},
   "source": [
    "## longspace\n"
   ]
  },
  {
   "cell_type": "code",
   "execution_count": 64,
   "id": "679c19d7",
   "metadata": {},
   "outputs": [
    {
     "name": "stdout",
     "output_type": "stream",
     "text": [
      "The array over the given range is  [   1024    5792   32768  185363 1048576]\n"
     ]
    }
   ],
   "source": [
    "arr = np.logspace(10, 20, num = 5, endpoint = True,base=2,dtype=\"int\")  \n",
    "print(\"The array over the given range is \",arr) "
   ]
  },
  {
   "cell_type": "markdown",
   "id": "f4b8ac6c",
   "metadata": {},
   "source": [
    "## brodcasting"
   ]
  },
  {
   "cell_type": "code",
   "execution_count": 69,
   "id": "79a180d7",
   "metadata": {},
   "outputs": [
    {
     "ename": "TypeError",
     "evalue": "'int' object is not callable",
     "output_type": "error",
     "traceback": [
      "\u001b[1;31m---------------------------------------------------------------------------\u001b[0m",
      "\u001b[1;31mTypeError\u001b[0m                                 Traceback (most recent call last)",
      "Cell \u001b[1;32mIn[69], line 2\u001b[0m\n\u001b[0;32m      1\u001b[0m a \u001b[38;5;241m=\u001b[39m np\u001b[38;5;241m.\u001b[39marray([\u001b[38;5;241m1\u001b[39m,\u001b[38;5;241m2\u001b[39m,\u001b[38;5;241m3\u001b[39m,\u001b[38;5;241m4\u001b[39m,\u001b[38;5;241m5\u001b[39m,\u001b[38;5;241m6\u001b[39m,\u001b[38;5;241m7\u001b[39m]) \n\u001b[1;32m----> 2\u001b[0m \u001b[38;5;28mprint\u001b[39m(\u001b[43ma\u001b[49m\u001b[38;5;241;43m.\u001b[39;49m\u001b[43mitemsize\u001b[49m\u001b[43m(\u001b[49m\u001b[43m)\u001b[49m)\n\u001b[0;32m      3\u001b[0m b \u001b[38;5;241m=\u001b[39m np\u001b[38;5;241m.\u001b[39marray([\u001b[38;5;241m2\u001b[39m,\u001b[38;5;241m4\u001b[39m,\u001b[38;5;241m6\u001b[39m,\u001b[38;5;241m8\u001b[39m,\u001b[38;5;241m10\u001b[39m,\u001b[38;5;241m12\u001b[39m,\u001b[38;5;241m14\u001b[39m,\u001b[38;5;241m19\u001b[39m])  \n\u001b[0;32m      4\u001b[0m c \u001b[38;5;241m=\u001b[39m a\u001b[38;5;241m*\u001b[39mb;  \n",
      "\u001b[1;31mTypeError\u001b[0m: 'int' object is not callable"
     ]
    }
   ],
   "source": [
    "a = np.array([1,2,3,4,5,6,7]) \n",
    "print(a.itemsize())\n",
    "b = np.array([2,4,6,8,10,12,14,19])  \n",
    "c = a*b;  \n",
    "print(c)  "
   ]
  },
  {
   "cell_type": "code",
   "execution_count": 72,
   "id": "cf638a4c",
   "metadata": {},
   "outputs": [
    {
     "name": "stdout",
     "output_type": "stream",
     "text": [
      "\n",
      "printing array a..\n",
      "[[ 1  2  3  4]\n",
      " [ 2  4  5  6]\n",
      " [10 20 39  3]]\n",
      "\n",
      "printing array b..\n",
      "[2 4 6 8]\n",
      "\n",
      "Adding arrays a and b ..\n",
      "[[ 3  6  9 12]\n",
      " [ 4  8 11 14]\n",
      " [12 24 45 11]]\n"
     ]
    }
   ],
   "source": [
    "a = np.array([[1,2,3,4],[2,4,5,6],[10,20,39,3]])  \n",
    "b = np.array([2,4,6,8])  \n",
    "print(\"\\nprinting array a..\")  \n",
    "print(a)  \n",
    "print(\"\\nprinting array b..\")  \n",
    "print(b)  \n",
    "print(\"\\nAdding arrays a and b ..\")  \n",
    "c = a + b;  \n",
    "print(c)  "
   ]
  },
  {
   "cell_type": "markdown",
   "id": "76086543",
   "metadata": {},
   "source": [
    "## array iteration"
   ]
  },
  {
   "cell_type": "code",
   "execution_count": 4,
   "id": "887b0f58",
   "metadata": {},
   "outputs": [
    {
     "name": "stdout",
     "output_type": "stream",
     "text": [
      "original array [[1 2 3]\n",
      " [4 5 6]\n",
      " [7 8 9]]\n",
      "tranpose [[1 4 7]\n",
      " [2 5 8]\n",
      " [3 6 9]]\n",
      "1 2 3 4 5 6 7 8 9 "
     ]
    }
   ],
   "source": [
    "import numpy as np\n",
    "a=np.array([[1,2,3],[4,5,6],[7,8,9]])\n",
    "print(\"original array\",a)\n",
    "at=a.T\n",
    "print(\"tranpose\",at)\n",
    "for x in np.nditer(a):\n",
    "    print(x,end=\" \")"
   ]
  },
  {
   "cell_type": "code",
   "execution_count": 8,
   "id": "d93bcfa6",
   "metadata": {},
   "outputs": [
    {
     "name": "stdout",
     "output_type": "stream",
     "text": [
      "original array [[1 2 3]\n",
      " [4 5 6]\n",
      " [7 8 9]]\n",
      "tranpose [[1 4 7]\n",
      " [2 5 8]\n",
      " [3 6 9]]\n",
      "copy== [[1 4 7]\n",
      " [2 5 8]\n",
      " [3 6 9]]\n",
      "1 2 3 4 5 6 7 8 9 copy c== [[1 4 7]\n",
      " [2 5 8]\n",
      " [3 6 9]] copy c== [[1 4 7]\n",
      " [2 5 8]\n",
      " [3 6 9]] copy c== [[1 4 7]\n",
      " [2 5 8]\n",
      " [3 6 9]] copy c== [[1 4 7]\n",
      " [2 5 8]\n",
      " [3 6 9]] copy c== [[1 4 7]\n",
      " [2 5 8]\n",
      " [3 6 9]] copy c== [[1 4 7]\n",
      " [2 5 8]\n",
      " [3 6 9]] copy c== [[1 4 7]\n",
      " [2 5 8]\n",
      " [3 6 9]] copy c== [[1 4 7]\n",
      " [2 5 8]\n",
      " [3 6 9]] copy c== [[1 4 7]\n",
      " [2 5 8]\n",
      " [3 6 9]] copy d== [[1 4 7]\n",
      " [2 5 8]\n",
      " [3 6 9]] copy d== [[1 4 7]\n",
      " [2 5 8]\n",
      " [3 6 9]] copy d== [[1 4 7]\n",
      " [2 5 8]\n",
      " [3 6 9]] copy d== [[1 4 7]\n",
      " [2 5 8]\n",
      " [3 6 9]] copy d== [[1 4 7]\n",
      " [2 5 8]\n",
      " [3 6 9]] copy d== [[1 4 7]\n",
      " [2 5 8]\n",
      " [3 6 9]] copy d== [[1 4 7]\n",
      " [2 5 8]\n",
      " [3 6 9]] copy d== [[1 4 7]\n",
      " [2 5 8]\n",
      " [3 6 9]] copy d== [[1 4 7]\n",
      " [2 5 8]\n",
      " [3 6 9]] "
     ]
    }
   ],
   "source": [
    "import numpy as np\n",
    "a=np.array([[1,2,3],[4,5,6],[7,8,9]])\n",
    "print(\"original array\",a)\n",
    "at=a.T\n",
    "print(\"tranpose\",at)\n",
    "c=at.copy(order=\"C\")\n",
    "d=at.copy(order=\"F\")\n",
    "print(\"copy==\",c)\n",
    "for x in np.nditer(a):\n",
    "    print(x,end=\" \")\n",
    "for x in np.nditer(c):\n",
    "    print(\"copy c==\",c,end=\" \")\n",
    "for x in np.nditer(d):\n",
    "    print(\"copy d==\",d,end=\" \")"
   ]
  },
  {
   "cell_type": "code",
   "execution_count": 9,
   "id": "4501bf31",
   "metadata": {},
   "outputs": [
    {
     "name": "stdout",
     "output_type": "stream",
     "text": [
      "\n",
      "Printing the array:\n",
      "\n",
      "[[ 1  2  3  4]\n",
      " [ 2  4  5  6]\n",
      " [10 20 39  3]]\n",
      "\n",
      "Printing the transpose of the array:\n",
      "\n",
      "[[ 1  2 10]\n",
      " [ 2  4 20]\n",
      " [ 3  5 39]\n",
      " [ 4  6  3]]\n",
      "\n",
      "Iterating over the transposed array\n",
      "\n",
      "1 2 3 4 2 4 5 6 10 20 39 3 \n",
      "Sorting the transposed array in C-style:\n",
      "\n",
      "\n",
      "Iterating over the C-style array:\n",
      "\n",
      "1 2 10 2 4 20 3 5 39 4 6 3 "
     ]
    }
   ],
   "source": [
    "a = np.array([[1,2,3,4],[2,4,5,6],[10,20,39,3]])  \n",
    "  \n",
    "print(\"\\nPrinting the array:\\n\")  \n",
    "  \n",
    "print(a)  \n",
    "  \n",
    "print(\"\\nPrinting the transpose of the array:\\n\")  \n",
    "at = a.T  \n",
    "  \n",
    "print(at)  \n",
    "  \n",
    "print(\"\\nIterating over the transposed array\\n\")  \n",
    "  \n",
    "for x in np.nditer(at):  \n",
    "    print(x, end= ' ')  \n",
    "  \n",
    "print(\"\\nSorting the transposed array in C-style:\\n\")  \n",
    "  \n",
    "print(\"\\nIterating over the C-style array:\\n\")  \n",
    "for x in np.nditer(at, order = 'C'):  \n",
    "    print(x,end=' ')  "
   ]
  },
  {
   "cell_type": "markdown",
   "id": "17cc26a9",
   "metadata": {},
   "source": [
    "## BITWISE OPERATOR"
   ]
  },
  {
   "cell_type": "code",
   "execution_count": 17,
   "id": "137f9858",
   "metadata": {},
   "outputs": [
    {
     "name": "stdout",
     "output_type": "stream",
     "text": [
      "binary representation of a 0b1010\n",
      "binary representation of a 0b1100\n",
      " and= 8\n",
      "or= 14\n",
      "binar representation and= 0b1000\n",
      "binary reoresentation or= 0b1110\n"
     ]
    }
   ],
   "source": [
    "a=10;\n",
    "b=12;\n",
    "print(\"binary representation of a\",bin(a))\n",
    "print(\"binary representation of a\",bin(b))\n",
    "print(\" and=\",np.bitwise_and(a,b))\n",
    "print(\"or=\",np.bitwise_or(a,b))\n",
    "print(\"binar representation and=\",bin(np.bitwise_and(a,b)))\n",
    "print(\"binary reoresentation or=\",bin(np.bitwise_or(a,b)))\n"
   ]
  },
  {
   "cell_type": "code",
   "execution_count": 19,
   "id": "4a9992b6",
   "metadata": {},
   "outputs": [
    {
     "name": "stdout",
     "output_type": "stream",
     "text": [
      "Binary representation: 00010100\n",
      "[235]\n",
      "Binary representation:  11101011\n"
     ]
    }
   ],
   "source": [
    "arr = np.array([20],dtype = np.uint8)  \n",
    "print(\"Binary representation:\",np.binary_repr(20,8))  \n",
    "\n",
    "  \n",
    "print(np.invert(arr))  \n",
    "  \n",
    "print(\"Binary representation: \", np.binary_repr(235,8))  "
   ]
  },
  {
   "cell_type": "markdown",
   "id": "d01d9e3f",
   "metadata": {},
   "source": [
    "## string method"
   ]
  },
  {
   "cell_type": "markdown",
   "id": "a45ed38c",
   "metadata": {},
   "source": [
    "## 1--->>>> add"
   ]
  },
  {
   "cell_type": "code",
   "execution_count": 1,
   "id": "e33bf088",
   "metadata": {},
   "outputs": [
    {
     "name": "stdout",
     "output_type": "stream",
     "text": [
      "Concatenating two string arrays:\n",
      "['welcome to Javatpoint' 'Hi read python']\n"
     ]
    }
   ],
   "source": [
    "import numpy as np   \n",
    "print(\"Concatenating two string arrays:\")  \n",
    "print(np.char.add(['welcome','Hi'], [' to Javatpoint', ' read python'] ))  "
   ]
  },
  {
   "cell_type": "code",
   "execution_count": 3,
   "id": "34868a39",
   "metadata": {},
   "outputs": [
    {
     "name": "stdout",
     "output_type": "stream",
     "text": [
      "hello hello hello \n"
     ]
    }
   ],
   "source": [
    "print(np.char.multiply(\"hello \",3)) "
   ]
  },
  {
   "cell_type": "code",
   "execution_count": 4,
   "id": "df2b05da",
   "metadata": {},
   "outputs": [
    {
     "name": "stdout",
     "output_type": "stream",
     "text": [
      "*****Javatpoint*****\n"
     ]
    }
   ],
   "source": [
    "print(np.char.center(\"Javatpoint\", 20, '*'))  "
   ]
  },
  {
   "cell_type": "code",
   "execution_count": 5,
   "id": "0952c87b",
   "metadata": {},
   "outputs": [
    {
     "name": "stdout",
     "output_type": "stream",
     "text": [
      "['Welcome', 'To', 'Javatpoint']\n"
     ]
    }
   ],
   "source": [
    "print(np.char.split(\"Welcome To Javatpoint\"),sep = \" \")  "
   ]
  },
  {
   "cell_type": "markdown",
   "id": "567f8ddf",
   "metadata": {},
   "source": [
    "## mathemetic function"
   ]
  },
  {
   "cell_type": "code",
   "execution_count": 8,
   "id": "377a4f88",
   "metadata": {},
   "outputs": [
    {
     "data": {
      "text/plain": [
       "array([ 6, 15])"
      ]
     },
     "execution_count": 8,
     "metadata": {},
     "output_type": "execute_result"
    }
   ],
   "source": [
    "arr=np.array([[1,2,3],[4,5,6]])\n",
    "arr.sum(axis=1)"
   ]
  },
  {
   "cell_type": "code",
   "execution_count": 12,
   "id": "54ff9c27",
   "metadata": {},
   "outputs": [
    {
     "data": {
      "text/plain": [
       "array([[14, 32],\n",
       "       [32, 77]])"
      ]
     },
     "execution_count": 12,
     "metadata": {},
     "output_type": "execute_result"
    }
   ],
   "source": [
    "b=np.array([[1,2,3],[4,5,6]])\n",
    "np.dot(arr,b.T)"
   ]
  },
  {
   "cell_type": "code",
   "execution_count": 11,
   "id": "198cb56c",
   "metadata": {},
   "outputs": [
    {
     "data": {
      "text/plain": [
       "array([[0, 0, 0],\n",
       "       [0, 0, 0]])"
      ]
     },
     "execution_count": 11,
     "metadata": {},
     "output_type": "execute_result"
    }
   ],
   "source": [
    "np.cross(arr,b)"
   ]
  },
  {
   "cell_type": "markdown",
   "id": "3ed8a49b",
   "metadata": {},
   "source": [
    "## sorting"
   ]
  },
  {
   "cell_type": "code",
   "execution_count": 15,
   "id": "d70dae91",
   "metadata": {},
   "outputs": [
    {
     "data": {
      "text/plain": [
       "array([[  1,  10,  12,  13, 100, 100],\n",
       "       [  9,  10,  12,  43,  77,  89]])"
      ]
     },
     "execution_count": 15,
     "metadata": {},
     "output_type": "execute_result"
    }
   ],
   "source": [
    "arr=np.array([[10,12,13,100,1,100],[10,12,9,89,77,43]])\n",
    "np.sort(arr,axis=1)"
   ]
  },
  {
   "cell_type": "code",
   "execution_count": 16,
   "id": "59580802",
   "metadata": {},
   "outputs": [
    {
     "data": {
      "text/plain": [
       "array([0, 1, 2, 3, 4, 5])"
      ]
     },
     "execution_count": 16,
     "metadata": {},
     "output_type": "execute_result"
    }
   ],
   "source": [
    "np.arange(6)"
   ]
  },
  {
   "cell_type": "code",
   "execution_count": 30,
   "id": "74cce7f9",
   "metadata": {},
   "outputs": [
    {
     "name": "stdout",
     "output_type": "stream",
     "text": [
      "9\n",
      "0\n",
      "11\n",
      "15\n"
     ]
    }
   ],
   "source": [
    "b=np.array([1,90,12,35,76,12,32,43,4,0,45,1000,65,98,98,65])\n",
    "c=np.sort(b)\n",
    "np.shape(b)\n",
    "c.reshape(4,4)\n",
    "b.reshape(8,2)\n",
    "np.argsort(c)\n",
    "print(np.argmin(b))\n",
    "print(np.argmin(c))\n",
    "print(np.argmax(b))\n",
    "print(np.argmax(c))"
   ]
  },
  {
   "cell_type": "markdown",
   "id": "0ade7825",
   "metadata": {},
   "source": [
    "## copies and view\n"
   ]
  },
  {
   "cell_type": "code",
   "execution_count": 39,
   "id": "30dca498",
   "metadata": {},
   "outputs": [
    {
     "name": "stdout",
     "output_type": "stream",
     "text": [
      "[[ 1  2  3  4]\n",
      " [ 5  6  7  8]\n",
      " [ 9 19 10 11]]\n",
      "1901982934736\n",
      "[[ 1  2  3  4]\n",
      " [ 5  6  7  8]\n",
      " [ 9 19 10 11]]\n",
      "1901982934736\n",
      "[[ 1  2  3]\n",
      " [ 4  5  6]\n",
      " [ 7  8  9]\n",
      " [19 10 11]]\n",
      "[[ 1  2  3]\n",
      " [ 4  5  6]\n",
      " [ 7  8  9]\n",
      " [19 10 11]]\n"
     ]
    }
   ],
   "source": [
    "a=np.array([[1,2,3,4],[5,6,7,8],[9,19,10,11]])\n",
    "print(a)\n",
    "print(id(a))\n",
    "b=a\n",
    "print(b)\n",
    "print(id(b))\n",
    "b.shape=4,3\n",
    "print(b)\n",
    "print(a)"
   ]
  },
  {
   "cell_type": "code",
   "execution_count": 33,
   "id": "28dacea6",
   "metadata": {},
   "outputs": [
    {
     "name": "stdout",
     "output_type": "stream",
     "text": [
      "1901985738320\n"
     ]
    }
   ],
   "source": []
  },
  {
   "cell_type": "code",
   "execution_count": null,
   "id": "c8f14f6d",
   "metadata": {},
   "outputs": [],
   "source": []
  }
 ],
 "metadata": {
  "kernelspec": {
   "display_name": "Python 3 (ipykernel)",
   "language": "python",
   "name": "python3"
  },
  "language_info": {
   "codemirror_mode": {
    "name": "ipython",
    "version": 3
   },
   "file_extension": ".py",
   "mimetype": "text/x-python",
   "name": "python",
   "nbconvert_exporter": "python",
   "pygments_lexer": "ipython3",
   "version": "3.10.5"
  }
 },
 "nbformat": 4,
 "nbformat_minor": 5
}
